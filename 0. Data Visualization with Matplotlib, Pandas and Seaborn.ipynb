{
 "cells": [
  {
   "cell_type": "markdown",
   "id": "6e2335bd",
   "metadata": {},
   "source": [
    "<img src=\"https://media.geeksforgeeks.org/wp-content/uploads/20210629202956/DataV.png\" width=\"500\">"
   ]
  },
  {
   "cell_type": "markdown",
   "id": "136c04ad",
   "metadata": {},
   "source": [
    "# Table of Contents"
   ]
  },
  {
   "cell_type": "markdown",
   "id": "e6cac252",
   "metadata": {},
   "source": [
    "### [1. Matplotlib Figures, Subplots, Colors, Markers and Linestyle](1.%20Creating%20Figures%20and%20Subplots.ipynb)"
   ]
  },
  {
   "cell_type": "markdown",
   "id": "827bff1e",
   "metadata": {},
   "source": [
    "### [2. Customizing Ticks and labels](2.%20Customizing%20Ticks%20and%20labels.ipynb)"
   ]
  },
  {
   "cell_type": "markdown",
   "id": "d7c1342f",
   "metadata": {},
   "source": [
    "### [3. Adding Legends](3.%20Adding%20Legends.ipynb)"
   ]
  },
  {
   "cell_type": "markdown",
   "id": "ffd67045",
   "metadata": {},
   "source": [
    "### [4. Data Visualization using Pandas](4.%20Data%20Visualization%20using%20Pandas.ipynb)"
   ]
  },
  {
   "cell_type": "markdown",
   "id": "5476ffa8",
   "metadata": {},
   "source": [
    "### [5. Bar Plot using Pandas](5.%20Bar%20Plot%20using%20Pandas.ipynb)"
   ]
  },
  {
   "cell_type": "markdown",
   "id": "5c337221",
   "metadata": {},
   "source": [
    "### [6. Bar Plot using Seaborn](6.%20Bar%20Plot%20using%20Seaborn.ipynb)"
   ]
  },
  {
   "cell_type": "markdown",
   "id": "8857c2d4",
   "metadata": {},
   "source": [
    "### [7. Histogram and Density Plot using Pandas](7.%20Histogram%20and%20Density%20Plot%20using%20Pandas.ipynb)"
   ]
  },
  {
   "cell_type": "markdown",
   "id": "e2567e37",
   "metadata": {},
   "source": [
    "### [8. Scatter and Pair Plots](8.%20Scatter%20and%20Pair%20Plots.ipynb)"
   ]
  },
  {
   "cell_type": "markdown",
   "id": "90480d91",
   "metadata": {},
   "source": [
    "### [9. Factor Plots for Categorical Data](9.%20Factor%20Plots%20for%20Categorical%20Data.ipynb)"
   ]
  }
 ],
 "metadata": {
  "kernelspec": {
   "display_name": "Python 3 (ipykernel)",
   "language": "python",
   "name": "python3"
  },
  "language_info": {
   "codemirror_mode": {
    "name": "ipython",
    "version": 3
   },
   "file_extension": ".py",
   "mimetype": "text/x-python",
   "name": "python",
   "nbconvert_exporter": "python",
   "pygments_lexer": "ipython3",
   "version": "3.9.7"
  }
 },
 "nbformat": 4,
 "nbformat_minor": 5
}
